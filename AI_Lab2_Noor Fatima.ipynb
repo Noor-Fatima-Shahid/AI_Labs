{
 "cells": [
  {
   "cell_type": "markdown",
   "id": "45e92756-0dab-40a7-9a01-fda4df5b7213",
   "metadata": {},
   "source": [
    "# Task-1 Greater Number with tie\n"
   ]
  },
  {
   "cell_type": "code",
   "execution_count": 10,
   "id": "6f7a81f1-bec7-400a-8950-2f83f36a9a1d",
   "metadata": {},
   "outputs": [
    {
     "name": "stdin",
     "output_type": "stream",
     "text": [
      "Enter first number 12\n",
      "Enter second number 13\n"
     ]
    },
    {
     "name": "stdout",
     "output_type": "stream",
     "text": [
      "Greater number: 13\n"
     ]
    }
   ],
   "source": [
    "# ---Task-1---\n",
    "# Inputs two numbers from user and then compare\n",
    "a=input(\"Enter first number\")\n",
    "b=input(\"Enter second number\")\n",
    "if a>b:\n",
    "    print(\"Greater number:\",a)\n",
    "elif b>a:\n",
    "    print(\"Greater number:\",b)\n",
    "else:\n",
    "    print(\"a & b are equal\")\n",
    "    \n"
   ]
  },
  {
   "cell_type": "markdown",
   "id": "ca723a5e-6c40-4d33-bbc6-5851423c9548",
   "metadata": {},
   "source": [
    "# Task-2 Grading System"
   ]
  },
  {
   "cell_type": "code",
   "execution_count": 24,
   "id": "a7da64f8-8636-40d8-8124-d40811bef6e3",
   "metadata": {},
   "outputs": [
    {
     "name": "stdin",
     "output_type": "stream",
     "text": [
      "Enter your marks(0-100): 23\n"
     ]
    },
    {
     "name": "stdout",
     "output_type": "stream",
     "text": [
      "Fail\n"
     ]
    }
   ],
   "source": [
    "# --Task-2--\n",
    "# Grading System\n",
    "# input marks(0-100) and print grades\n",
    "marks=int(input(\"Enter your marks(0-100):\"))\n",
    "if marks<0 or marks>100:\n",
    "    print(\"Please enter valid marks(0-100):\")\n",
    "elif marks>=80:\n",
    "    print(\"Grade A. Excellent!\")\n",
    "elif marks >=60:\n",
    "    print(\"Grade B. Good!\")\n",
    "else:\n",
    "    print(\"Fail\")\n",
    "\n"
   ]
  },
  {
   "cell_type": "code",
   "execution_count": null,
   "id": "c5299b04-8ded-4555-b94e-14a780005d4c",
   "metadata": {},
   "outputs": [],
   "source": []
  },
  {
   "cell_type": "code",
   "execution_count": null,
   "id": "5508e112-8f7b-4261-875c-7cc9836acf05",
   "metadata": {},
   "outputs": [],
   "source": []
  },
  {
   "cell_type": "code",
   "execution_count": null,
   "id": "850fc755-95f2-4472-868f-e8b11b9a7eaf",
   "metadata": {},
   "outputs": [],
   "source": []
  },
  {
   "cell_type": "code",
   "execution_count": null,
   "id": "3d48fbb0-838e-455b-afd8-62fcdea54ded",
   "metadata": {},
   "outputs": [],
   "source": []
  }
 ],
 "metadata": {
  "kernelspec": {
   "display_name": "Python [conda env:base] *",
   "language": "python",
   "name": "conda-base-py"
  },
  "language_info": {
   "codemirror_mode": {
    "name": "ipython",
    "version": 3
   },
   "file_extension": ".py",
   "mimetype": "text/x-python",
   "name": "python",
   "nbconvert_exporter": "python",
   "pygments_lexer": "ipython3",
   "version": "3.13.5"
  }
 },
 "nbformat": 4,
 "nbformat_minor": 5
}
