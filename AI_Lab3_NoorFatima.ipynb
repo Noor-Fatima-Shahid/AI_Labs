{
 "cells": [
  {
   "cell_type": "markdown",
   "id": "a573c848-22ad-4ad2-a344-a87f2408bff3",
   "metadata": {},
   "source": [
    "# AI Lab 3"
   ]
  },
  {
   "cell_type": "markdown",
   "id": "9c2ca3ca-a88c-4bd4-8ca6-eddfca5dfe92",
   "metadata": {},
   "source": [
    "## Task 1 Student Marks & Grades"
   ]
  },
  {
   "cell_type": "code",
   "execution_count": 55,
   "id": "59b73eac-c238-404d-8da7-2ca50ac9aca8",
   "metadata": {},
   "outputs": [
    {
     "name": "stdout",
     "output_type": "stream",
     "text": [
      "Ali:85 -> Grade: A\n",
      "Bilal:67 -> Grade: B\n",
      "Sara:45 -> Grade: Fail\n",
      "Average:  65.66666666666667\n"
     ]
    }
   ],
   "source": [
    "# Task-1: Student marks & grades\n",
    "# Create dictionary with student names & marks\n",
    "students={\"Ali\":85,\"Bilal\":67,\"Sara\":45}\n",
    "# Function to define geades for each student\n",
    "def print_results(data):\n",
    "    # Takes dictionary of students & prints each student's marks with grade\n",
    "    for name, marks in data.items():\n",
    "        # Apply grading rules\n",
    "        if marks>=80:\n",
    "            grade=\"A\"\n",
    "        elif marks >=60:\n",
    "            grade=\"B\"\n",
    "        elif marks>=50:\n",
    "            grade=\"C\"\n",
    "        else:\n",
    "            grade=\"Fail\"\n",
    "        #prints Result\n",
    "        print(f\"{name}:{marks} -> Grade: {grade}\")\n",
    "    avg=sum(data.values()) / len(data)\n",
    "    print(f\"Average: \",avg)\n",
    "# Function Call\n",
    "print_results(students)\n",
    "\n"
   ]
  },
  {
   "cell_type": "markdown",
   "id": "45e0a524-2065-472a-a60b-65f43006b409",
   "metadata": {},
   "source": [
    "## Task-2: Word counter"
   ]
  },
  {
   "cell_type": "code",
   "execution_count": 12,
   "id": "d0b03388-333e-45db-a458-bdbd7755b14e",
   "metadata": {},
   "outputs": [
    {
     "name": "stdin",
     "output_type": "stream",
     "text": [
      "Enter a sentence i am noor\n"
     ]
    },
    {
     "name": "stdout",
     "output_type": "stream",
     "text": [
      "Word counts:  {'i': 1, 'am': 1, 'noor': 1}\n"
     ]
    }
   ],
   "source": [
    "# Task-2: Word counter\n",
    "# Take input sentence from user\n",
    "sentence=input(\"Enter a sentence\")\n",
    "#Split sentence into list of words\n",
    "words=sentence.split()\n",
    "# Create an empty dictionary for inputs\n",
    "counter={}\n",
    "# Loop through words\n",
    "for w in words:\n",
    "    w=w.lower()\n",
    "    if w in counter:\n",
    "        counter[w]+=1\n",
    "    else:\n",
    "        counter[w]=1\n",
    "#Print dictionary of word counts\n",
    "print(\"Word counts: \",counter)"
   ]
  },
  {
   "cell_type": "markdown",
   "id": "3e95e6da-58e9-4136-833b-5853b825859b",
   "metadata": {},
   "source": [
    "## Task-3: Mini Chatbot"
   ]
  },
  {
   "cell_type": "code",
   "execution_count": 62,
   "id": "2a7a14af-a19c-4833-9993-603ccfe6d801",
   "metadata": {},
   "outputs": [
    {
     "name": "stdin",
     "output_type": "stream",
     "text": [
      "You:  Hi\n"
     ]
    },
    {
     "name": "stdout",
     "output_type": "stream",
     "text": [
      "Bot: Sorry, I don't understand\n"
     ]
    }
   ],
   "source": [
    "# Task-3: Mini Chatbot\n",
    "# Create dictionary of possible responses\n",
    "responses={\n",
    "    \"Hi\":\"Hello How caan i help you?\",\n",
    "    \"Bye\":\"Goodbye! Have a nice day\",\n",
    "    \"How are you?\":\"I am doing well\"\n",
    "    \n",
    "}\n",
    "# Take input from user\n",
    "user=input(\"You: \").lower()  #Lower case for matching\n",
    "# Match input with dictionary\n",
    "if user in responses:\n",
    "    print(\"Bot: \",responses[user])\n",
    "else:\n",
    "    print(\"Bot: Sorry, I don't understand\")"
   ]
  },
  {
   "cell_type": "markdown",
   "id": "2740553a-4a08-4c4b-a80a-83d168e3c817",
   "metadata": {},
   "source": [
    "## Task-4: Movie Recomendation"
   ]
  },
  {
   "cell_type": "code",
   "execution_count": 23,
   "id": "59e7f27f-4e85-4bc4-9ae8-d36221816666",
   "metadata": {},
   "outputs": [
    {
     "name": "stdin",
     "output_type": "stream",
     "text": [
      "Enter genre(action/comedy/sci-fi) horror\n"
     ]
    },
    {
     "name": "stdout",
     "output_type": "stream",
     "text": [
      "Watch:  Conjuring\n"
     ]
    }
   ],
   "source": [
    "# Task-4: Movie Recomendation\n",
    "import random\n",
    "movies={\n",
    "    \"action\":[\"Avengers\",\"Batman\",\"Spiderman\"],\n",
    "    \"comedy\":[\"Mr.Bean\",\"Home Alone\",\"The Musk\"],\n",
    "    \"sci-fi\":[\"Interstellat\",\"Inception\",\"The Matrix\"],\n",
    "    \"horror\":[\"Insidious\",\"The Conjuring\"]\n",
    "}\n",
    "# Asked user for preferred genre\n",
    "genre=input(\"Enter genre(action/comedy/sci-fi)\").lower()\n",
    "# Check if genre exist in dictionary\n",
    "if genre in movies:\n",
    "    print(\"Watch: \",random.choice(movies[genre]))\n",
    "else:\n",
    "    print(\"Sorry, try action/comedy or sci-fi\")"
   ]
  },
  {
   "cell_type": "markdown",
   "id": "0cfa936c-87eb-48ba-9796-ad482e844482",
   "metadata": {},
   "source": [
    "## Task-5: Weather Based decision"
   ]
  },
  {
   "cell_type": "code",
   "execution_count": 27,
   "id": "fc566075-c14a-4cd9-b861-cf268e11a8e5",
   "metadata": {},
   "outputs": [
    {
     "name": "stdin",
     "output_type": "stream",
     "text": [
      "Enter weather sunny/cold/rainy/windy? sunny\n"
     ]
    },
    {
     "name": "stdout",
     "output_type": "stream",
     "text": [
      "Go outside\n"
     ]
    }
   ],
   "source": [
    "# Task-5: Weather Based decision\n",
    "# Define function with weather as input\n",
    "def suggest_activity(weather):\n",
    "    weather=weather.lower()\n",
    "    if weather==\"sunny\":\n",
    "        return \"Go outside\"\n",
    "    elif weather == \"rainy\":\n",
    "        return \"Take an umbrella\"\n",
    "    elif weather == \"cold\":\n",
    "        return \"Stay warm at home\"\n",
    "    elif weather == \"windy\":\n",
    "        return \"Fly a kite\"\n",
    "    else:\n",
    "        return \"Unknown weather condition\"\n",
    "weather=input(\"Enter weather sunny/cold/rainy/windy?\")\n",
    "print(suggest_activity(weather))\n",
    "    "
   ]
  },
  {
   "cell_type": "markdown",
   "id": "bd7c4f43-366a-4804-8160-dad5bff6714d",
   "metadata": {},
   "source": [
    "## Task-6: mini Data Analyzer"
   ]
  },
  {
   "cell_type": "code",
   "execution_count": 75,
   "id": "ae721a1f-38d6-47e9-96a8-58b097228d5c",
   "metadata": {},
   "outputs": [
    {
     "name": "stdout",
     "output_type": "stream",
     "text": [
      "Numbers:  [1, 2, 34, 56, 78, 67]\n",
      "Maximum:  78\n",
      "Minimum:  1\n",
      "Average: 39.666666666666664\n",
      "Above average: [56, 78, 67]\n"
     ]
    }
   ],
   "source": [
    "# Task-6: mini Data Analyzer\n",
    "# Example dataset\n",
    "numbers=[1,2,34,56,78,67]\n",
    "# For user input\n",
    "# Function to analyze numbers\n",
    "def analyze(nums):\n",
    "    maximum=max(nums)\n",
    "    minimum=min(nums)\n",
    "    average=sum(nums)/len(nums)\n",
    "    # Print Summary\n",
    "    print(\"Numbers: \",nums)\n",
    "    print(\"Maximum: \",maximum)\n",
    "    print(\"Minimum: \",minimum)\n",
    "    print(\"Average:\",average)\n",
    "    # Number greater than average\n",
    "    above_avg=[n for n in nums if n>average]\n",
    "    print(\"Above average:\",above_avg)\n",
    "analyze(numbers)\n",
    "    \n",
    "    "
   ]
  },
  {
   "cell_type": "markdown",
   "id": "55d81a37-c416-4f7d-a835-5f81d38eeae9",
   "metadata": {},
   "source": [
    "## Task-7: Student Report"
   ]
  },
  {
   "cell_type": "code",
   "execution_count": 76,
   "id": "3ff15e98-efae-450b-94bb-15645af18a06",
   "metadata": {},
   "outputs": [
    {
     "name": "stdout",
     "output_type": "stream",
     "text": [
      "Name\tMarks\tGrades\tResult\n",
      "--------------------------------\n",
      "Ali\t85\tA\tPass\n",
      "Bilal\t50\tC\tPass\n",
      "Ayesha\t34\tF\tFail\n",
      "Omar\t67\tB\tPass\n",
      "Noor\t64\tB\tPass\n",
      "\n",
      "Class Average: 60.0\n",
      "Topper: Ali with 85 marks\n"
     ]
    }
   ],
   "source": [
    "# Student Report\n",
    "students={\n",
    "    \"Ali\":85,\n",
    "    \"Bilal\":50,\n",
    "    \"Ayesha\":34,\n",
    "    \"Omar\":67,\n",
    "    \"Noor\":64\n",
    "}\n",
    "\"\"\"students={}\n",
    "for i in range(1,6):\n",
    "    key=input(\"Enter key: \")\n",
    "    value=input(\"Enter Value\")\n",
    "    students[key]=value\"\"\"\n",
    "#define function to print report\n",
    "def report(data):\n",
    "    print(\"Name\\tMarks\\tGrades\\tResult\")\n",
    "    print(\"-\"*32)\n",
    "    # Loops through students\n",
    "    for name, marks in data.items():\n",
    "        #Decide Grade + Result\n",
    "        if marks>=80:\n",
    "            grade,result=\"A\",\"Pass\"\n",
    "        elif marks>=60:\n",
    "            grade,result=\"B\",\"Pass\"\n",
    "        elif marks>=50:\n",
    "            grade,result=\"C\",\"Pass\"\n",
    "        else:\n",
    "            grade,result=\"F\",\"Fail\"\n",
    "        print(f\"{name}\\t{marks}\\t{grade}\\t{result}\")\n",
    "    avg=sum(data.values()) / len(data)\n",
    "    topper=max(data,key=data.get)\n",
    "    print(\"\\nClass Average:\",round(avg,2))\n",
    "    print(\"Topper:\",topper,\"with\",data[topper],\"marks\")\n",
    "report(students)"
   ]
  },
  {
   "cell_type": "code",
   "execution_count": 88,
   "id": "b73a01ad-9e2a-40cc-8f50-e2f1a7621cc3",
   "metadata": {},
   "outputs": [
    {
     "name": "stdout",
     "output_type": "stream",
     "text": [
      "['Fajar', 'Noor', 'Sidra']\n"
     ]
    }
   ],
   "source": [
    "Friends =[\"Noor\", \"Sidra\", \"Fajar\"]\n",
    "Friends.sort()\n",
    "print(Friends)\n",
    "        \n"
   ]
  }
 ],
 "metadata": {
  "kernelspec": {
   "display_name": "Python [conda env:base] *",
   "language": "python",
   "name": "conda-base-py"
  },
  "language_info": {
   "codemirror_mode": {
    "name": "ipython",
    "version": 3
   },
   "file_extension": ".py",
   "mimetype": "text/x-python",
   "name": "python",
   "nbconvert_exporter": "python",
   "pygments_lexer": "ipython3",
   "version": "3.13.5"
  }
 },
 "nbformat": 4,
 "nbformat_minor": 5
}
