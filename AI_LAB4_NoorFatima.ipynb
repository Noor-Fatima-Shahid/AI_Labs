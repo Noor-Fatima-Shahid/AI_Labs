{
 "cells": [
  {
   "cell_type": "markdown",
   "id": "7d70167d-aa68-4f77-bee4-a8ae9e2bea04",
   "metadata": {},
   "source": [
    "<h1 style=\"text-align:center;\"> AI LAB 4 </h1>"
   ]
  },
  {
   "cell_type": "markdown",
   "id": "20301532-f059-4361-99b1-11ac1fdb185d",
   "metadata": {},
   "source": [
    "# Task 1 — Function Practice: Student Grading"
   ]
  },
  {
   "cell_type": "code",
   "execution_count": 1,
   "id": "c695b7e9-381d-4d15-b285-87a5ac9eedbd",
   "metadata": {},
   "outputs": [
    {
     "name": "stdout",
     "output_type": "stream",
     "text": [
      "Marks: 95 --> Grade: A\n",
      "Marks: 65 --> Grade: B\n",
      "Marks: 38 --> Grade: Fail\n",
      "Marks: 60 --> Grade: B\n",
      "Marks: 45 --> Grade: C\n"
     ]
    }
   ],
   "source": [
    "# Use descending threshold to avoid overlapping\n",
    "def get_grade(marks):\n",
    "    if marks>90:\n",
    "        return \"A\"\n",
    "    elif marks>=60:\n",
    "        return \"B\"\n",
    "    elif marks>=40:\n",
    "        return \"C\"\n",
    "    else:\n",
    "        return \"Fail\"\n",
    "# Example data\n",
    "marks_list=[95,65,38,60,45]\n",
    "for m in marks_list:\n",
    "    print(f\"Marks: {m} --> Grade: {get_grade(m)}\")\n"
   ]
  },
  {
   "cell_type": "markdown",
   "id": "15794a00-b536-4fb9-9e55-8f09dd38537f",
   "metadata": {},
   "source": [
    "# Task 2 — Text Cleaner (NLP Pre-processing Step)"
   ]
  },
  {
   "cell_type": "code",
   "execution_count": 31,
   "id": "ae01d853-b760-4ed2-b39f-147c0e1a034b",
   "metadata": {},
   "outputs": [
    {
     "name": "stdout",
     "output_type": "stream",
     "text": [
      "Original:  Hello, Students! AI is amazing, isn't it?\n",
      "Lower:  hello, students! ai is amazing, isn't it?\n",
      "Cleaned:  hello students ai is amazing isnt it\n",
      "Words:  ['hello', 'students', 'ai', 'is', 'amazing', 'isnt', 'it']\n"
     ]
    }
   ],
   "source": [
    "import string\n",
    "# Example input sentence\n",
    "sentence=\"Hello, Students! AI is amazing, isn't it?\"\n",
    "# Lower case conversion\n",
    "sentence_lower=sentence.lower()\n",
    "# Remove punctuation\n",
    "cleaned=sentence_lower\n",
    "for p in string.punctuation:\n",
    "    cleaned=cleaned.replace(p,\"\")\n",
    "#Split to words\n",
    "words=cleaned.split()\n",
    "print(\"Original: \",sentence)\n",
    "print(\"Lower: \",sentence_lower)\n",
    "print(\"Cleaned: \",cleaned)\n",
    "print(\"Words: \",words)"
   ]
  },
  {
   "cell_type": "markdown",
   "id": "aa5e3536-58ce-434e-8bb2-00df7ca019cc",
   "metadata": {},
   "source": [
    "# Task 3 — NumPy Array Basics "
   ]
  },
  {
   "cell_type": "code",
   "execution_count": 7,
   "id": "59079d5e-1767-47ab-8ce7-7180298711a7",
   "metadata": {},
   "outputs": [
    {
     "name": "stdout",
     "output_type": "stream",
     "text": [
      "Array                   : [ 10.   20.   30.4  50.   60.   70.   80.   90.  100. ]\n",
      "Sum                     : 510.4\n",
      "Mean                    : 56.71111111111111\n",
      "Max/Min                 : 100.0 / 10.0\n",
      "Above mean?             : [False False False False  True  True  True  True  True]\n",
      "Values>mean             : [ 60.  70.  80.  90. 100.]\n"
     ]
    }
   ],
   "source": [
    "import numpy as np\n",
    "arr=np.array([10,20,30.40,50,60,70,80,90,100])\n",
    "# Compute basic statistics using numpy methods\n",
    "arr_sum=arr.sum()\n",
    "arr_mean=arr.mean()\n",
    "arr_max=arr.max()\n",
    "arr_min=arr.min()\n",
    "marks_above_mean=arr>arr_mean\n",
    "above_mean_values=arr[marks_above_mean]\n",
    "print(\"Array                   :\",arr)\n",
    "print(\"Sum                     :\",arr_sum)\n",
    "print(\"Mean                    :\",arr_mean)\n",
    "print(\"Max/Min                 :\",arr_max,\"/\",arr_min)\n",
    "print(\"Above mean?             :\",marks_above_mean)\n",
    "print(\"Values>mean             :\",above_mean_values)"
   ]
  },
  {
   "cell_type": "markdown",
   "id": "e9b4ccc4-64af-49a7-91ae-930d4732d847",
   "metadata": {},
   "source": [
    "# Task 4 — Mini Rule-Based System: Health Tips"
   ]
  },
  {
   "cell_type": "code",
   "execution_count": null,
   "id": "3e3a6139-42f4-4b37-ade9-afdd7da93100",
   "metadata": {},
   "outputs": [],
   "source": [
    "feeling=input(\"Enter feeling: \")\n",
    "responses={\n",
    "    \"tired\":\"Take a short rest & drink water\",\n",
    "    \"hungry\":\"Have a balanced snack & a healthy meal\",\n",
    "    \"sad\":\"TTake a short walk or talk to a friend\",\n",
    "    \"happy\":\"Great! Keep smiling & spread positivity\"\n",
    "}\n",
    "# Covert to lower case to match dictionary\n",
    "feeling_key=feeling.lower()\n",
    "if feeling_key in responses:\n",
    "    print(\"Feeling:\",feeling)\n",
    "    print(\"Suggestion:\",responses[feeling_key])\n",
    "else:\n",
    "    print(\"Feeling:\",feeling)\n",
    "    print(\"Suggestion I am not sure about this feeling. Try tired/hungry/sad/happy\")\n"
   ]
  },
  {
   "cell_type": "markdown",
   "id": "dfde301c-2b13-4861-831d-3fca973139f6",
   "metadata": {},
   "source": [
    "# Task 5 — NumPy Decision: Even/Odd Analyzer"
   ]
  },
  {
   "cell_type": "code",
   "execution_count": 15,
   "id": "5f5a675d-4a71-4afa-8fb0-76b28cc687d5",
   "metadata": {},
   "outputs": [
    {
     "name": "stdout",
     "output_type": "stream",
     "text": [
      "All Numbers:  [ 1  2  3  4  5  6  7  8  9 10 11 12 13 14 15 16 17 18 19 20]\n",
      "Even Marks:  [False  True False  True False  True False  True False  True False  True\n",
      " False  True False  True False  True False  True]\n",
      "Odd Marks:  [ True False  True False  True False  True False  True False  True False\n",
      "  True False  True False  True False  True False]\n",
      "Evens:  [ 2  4  6  8 10 12 14 16 18 20] ---> count = 10\n",
      "Odds:  [ 1  3  5  7  9 11 13 15 17 19] ---> count = 10\n"
     ]
    }
   ],
   "source": [
    "import numpy as np\n",
    "# Create numbers from 1 to 20 excluding 21\n",
    "arr=np.arange(1,21)\n",
    "# Boolean values\n",
    "even_marks=(arr%2 == 0)\n",
    "odd_marks=~even_marks\n",
    "# Filter array using marks\n",
    "evens=arr[even_marks]\n",
    "odds=arr[odd_marks]\n",
    "# Counts even and odd\n",
    "n_evens=len(evens)\n",
    "n_odds=len(odds)\n",
    "print(\"All Numbers: \",arr)\n",
    "print(\"Even Marks: \",even_marks)\n",
    "print(\"Odd Marks: \",odd_marks)\n",
    "print(\"Evens: \",evens, \"---> count =\",n_evens)\n",
    "print(\"Odds: \",odds, \"---> count =\",n_odds)\n"
   ]
  },
  {
   "cell_type": "markdown",
   "id": "0a9d85ac-6c95-47ac-8e58-cfce3f459db0",
   "metadata": {},
   "source": [
    "# Wrap-Up Challenge — AI Data Summary"
   ]
  },
  {
   "cell_type": "code",
   "execution_count": 41,
   "id": "74ec43e2-b502-4137-a71f-1588183131cc",
   "metadata": {},
   "outputs": [
    {
     "name": "stdout",
     "output_type": "stream",
     "text": [
      "Marks Array            : [51 92 14 71 60 20 82 86 74 74]\n",
      "Class Average           : 62.4\n",
      "Topper Score            : 92\n",
      "Lowest Score            : 14\n",
      "Above_Averge_Marks      : [False  True False  True False False  True  True  True  True]\n",
      "Above_Averge_Scores      : [92 71 82 86 74 74]\n"
     ]
    }
   ],
   "source": [
    "import numpy as np\n",
    "# Set a random seed so results are repeatable(optional)\n",
    "np.random.seed(42)\n",
    "# Generate marks for 10 students starting from 0-100\n",
    "marks=np.random.randint(0,101,size=10)\n",
    "avg=marks.mean()\n",
    "topper=marks.max()\n",
    "lowest=marks.min()\n",
    "# Boolean marks for students scoring above average\n",
    "above_avg_marks=marks>avg\n",
    "above_avg_scores=marks[above_avg_marks]\n",
    "# Display full analysis\n",
    "print(\"Marks Array            :\",marks)\n",
    "print(\"Class Average           :\",round(avg,2))\n",
    "print(\"Topper Score            :\",topper)\n",
    "print(\"Lowest Score            :\",lowest)\n",
    "print(\"Above_Averge_Marks      :\",above_avg_marks)\n",
    "print(\"Above_Averge_Scores      :\",above_avg_scores)\n"
   ]
  },
  {
   "cell_type": "code",
   "execution_count": null,
   "id": "ee9c5f2c-8883-45d1-8b9f-a7c05dd828e3",
   "metadata": {},
   "outputs": [],
   "source": []
  }
 ],
 "metadata": {
  "kernelspec": {
   "display_name": "Python [conda env:base] *",
   "language": "python",
   "name": "conda-base-py"
  },
  "language_info": {
   "codemirror_mode": {
    "name": "ipython",
    "version": 3
   },
   "file_extension": ".py",
   "mimetype": "text/x-python",
   "name": "python",
   "nbconvert_exporter": "python",
   "pygments_lexer": "ipython3",
   "version": "3.13.5"
  }
 },
 "nbformat": 4,
 "nbformat_minor": 5
}
