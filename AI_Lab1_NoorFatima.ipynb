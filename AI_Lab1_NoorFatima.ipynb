{
 "cells": [
  {
   "cell_type": "markdown",
   "id": "ba7e16c7-4a1a-4f71-a813-aaf3358aaff8",
   "metadata": {},
   "source": [
    "# AI Lab Assignment – 1\n",
    "### Course: Artificial Intelligence  \n",
    "### Student: Noor Fatima  \n",
    "### Roll No: 2024-csr-001  \n",
    "### Date: 23 September 2025  \n",
    "---\n"
   ]
  },
  {
   "cell_type": "markdown",
   "id": "07844a08-13fa-4871-b174-a3cd71f109e8",
   "metadata": {},
   "source": [
    "## Hello World"
   ]
  },
  {
   "cell_type": "code",
   "execution_count": 29,
   "id": "7f785d6b-503c-408e-b24d-cfcc415da67e",
   "metadata": {},
   "outputs": [
    {
     "name": "stdout",
     "output_type": "stream",
     "text": [
      "Hello World\n"
     ]
    }
   ],
   "source": [
    "print(\"Hello World\")"
   ]
  },
  {
   "cell_type": "markdown",
   "id": "64aaaf9c-4286-4dbe-bba4-fdc2a229039c",
   "metadata": {},
   "source": [
    "## Task 1: Variables & Data Types  \n",
    "In this task, I will demonstrate how to store and display **different data types** in Python:  \n",
    "- **String** → stores text  \n",
    "- **Integer** → stores whole numbers  \n",
    "- **Float** → stores decimal values  "
   ]
  },
  {
   "cell_type": "code",
   "execution_count": 16,
   "id": "6e29fbeb-084b-4fb5-aa92-a445b72108d3",
   "metadata": {},
   "outputs": [
    {
     "name": "stdout",
     "output_type": "stream",
     "text": [
      "Name: Ali\n",
      "Roll no: 23\n",
      "CGPA: 3.56\n",
      "Age: 20\n"
     ]
    }
   ],
   "source": [
    "# Store student Information\n",
    "name=\"Ali\"  # stores as string\n",
    "roll_no=23  #stores as integer\n",
    "cgpa=3.56  #stores as float\n",
    "age=20\n",
    "print(\"Name:\",name)\n",
    "print(\"Roll no:\",roll_no)\n",
    "print(\"CGPA:\",cgpa)\n",
    "print(\"Age:\",age)"
   ]
  },
  {
   "cell_type": "markdown",
   "id": "25389307-5137-471e-a198-a0fbc4a43149",
   "metadata": {},
   "source": [
    "## Task 2: Loops\n",
    "In this task, I will use a **for loop** to display numbers from **1 to 10**."
   ]
  },
  {
   "cell_type": "code",
   "execution_count": 5,
   "id": "7d48b506-9b71-4ada-9195-78b6efd000c7",
   "metadata": {},
   "outputs": [
    {
     "name": "stdout",
     "output_type": "stream",
     "text": [
      "1\n",
      "2\n",
      "3\n",
      "4\n",
      "5\n",
      "6\n",
      "7\n",
      "8\n",
      "9\n",
      "10\n"
     ]
    }
   ],
   "source": [
    "# Print numbers 1 to 10\n",
    "for i in range(1,11):\n",
    "  print(i)"
   ]
  },
  {
   "cell_type": "markdown",
   "id": "248332be-3ff8-43cb-9d96-061e47381461",
   "metadata": {},
   "source": [
    "### Even numbers\n",
    "In this task, I will use a **for loop with an if-condition** to print only the even numbers between **1 and 10**.\n"
   ]
  },
  {
   "cell_type": "code",
   "execution_count": 19,
   "id": "a4c22761-1320-4087-907d-c26696f6afd2",
   "metadata": {
    "collapsed": true,
    "jupyter": {
     "outputs_hidden": true
    }
   },
   "outputs": [
    {
     "name": "stdout",
     "output_type": "stream",
     "text": [
      "2\n",
      "4\n",
      "6\n",
      "8\n",
      "10\n"
     ]
    }
   ],
   "source": [
    "for i in range(1,11):\n",
    "    if(i%2==0): # prints only even numbers\n",
    "        print(i)\n",
    "        "
   ]
  },
  {
   "cell_type": "markdown",
   "id": "1db44286-0a44-478e-9dd4-13533b049a83",
   "metadata": {},
   "source": [
    "## Task 3: Functions\n",
    "In this task, I will define a **function** to calculate the factorial of a number using a **for loop**.  \n",
    "\n",
    "- **Factorial Formula**:  \n",
    "  \\[\n",
    "  n! = 1x2x3x4....x n\n",
    "  \\]  \n",
    "- Example:  \n",
    "  \\[\n",
    "  5! = 1 x 2 x 3 x 4 x 5 = 120\n",
    "  \\]"
   ]
  },
  {
   "cell_type": "code",
   "execution_count": 20,
   "id": "629b0bc0-7f5c-4d4f-8a6e-202e29dd0275",
   "metadata": {},
   "outputs": [
    {
     "name": "stdout",
     "output_type": "stream",
     "text": [
      "Factorial of 5 is: 120\n"
     ]
    }
   ],
   "source": [
    "# function to calculate factorial\n",
    "def factorial(n):\n",
    "    result=1\n",
    "    for i in range(1,n+1):\n",
    "        result*=i\n",
    "    return result\n",
    "print(\"Factorial of 5 is:\",factorial(5))"
   ]
  },
  {
   "cell_type": "markdown",
   "id": "3a4eee6d-9fe1-4b05-a352-8917a8a2f458",
   "metadata": {},
   "source": [
    "### For user Input"
   ]
  },
  {
   "cell_type": "code",
   "execution_count": 21,
   "id": "6cfbfcbd-6ed9-4646-8245-343d39d0d6e9",
   "metadata": {},
   "outputs": [
    {
     "name": "stdin",
     "output_type": "stream",
     "text": [
      "Enter a number: 5\n"
     ]
    },
    {
     "name": "stdout",
     "output_type": "stream",
     "text": [
      "Factorial of 5 is: 120\n"
     ]
    }
   ],
   "source": [
    "n=int(input(\"Enter a number:\"))\n",
    "def factorial(n):\n",
    "    result=1\n",
    "    for i in range(1,n+1):\n",
    "        result*=i\n",
    "    return result\n",
    "print(\"Factorial of 5 is:\",factorial(n))"
   ]
  },
  {
   "cell_type": "markdown",
   "id": "cb5571ef-bac6-46a2-9ea2-b7ddc2b96094",
   "metadata": {},
   "source": [
    "## Task 4: Student passes or fails\n",
    "\n",
    "This program decides if a student **passes** or **fails** based on their marks.  \n",
    "\n",
    "- If marks are **greater than or equal to 50 → Pass**  \n",
    "- If marks are **less than 50 → Fail**"
   ]
  },
  {
   "cell_type": "code",
   "execution_count": 22,
   "id": "e47eb05c-19f1-4477-846e-bf4e6de8006e",
   "metadata": {},
   "outputs": [
    {
     "name": "stdin",
     "output_type": "stream",
     "text": [
      "Enter your marks: 69\n"
     ]
    },
    {
     "name": "stdout",
     "output_type": "stream",
     "text": [
      "Pass\n"
     ]
    }
   ],
   "source": [
    "# Decides if a student passes or fails\n",
    "marks=int(input(\"Enter your marks:\"))\n",
    "if marks>=50:\n",
    "    print(\"Pass\")\n",
    "else:\n",
    "    print(\"Fail\")"
   ]
  },
  {
   "cell_type": "markdown",
   "id": "94a1829d-a7da-4b1e-b7ec-7646085c2028",
   "metadata": {},
   "source": [
    "### Grades\n",
    "This program assigns a **grade** based on the student’s marks:  \n",
    "\n",
    "- Marks **80 or above → A Grade**  \n",
    "- Marks **60 to 79 → B Grade **  \n",
    "- Marks **50 to 59 → C Grade **  \n",
    "- Marks **Below 50 → Fail "
   ]
  },
  {
   "cell_type": "code",
   "execution_count": 26,
   "id": "16c723e1-9aa3-47ff-a261-40c0abb2d29f",
   "metadata": {},
   "outputs": [
    {
     "name": "stdin",
     "output_type": "stream",
     "text": [
      "Enter your marks: 45\n"
     ]
    },
    {
     "name": "stdout",
     "output_type": "stream",
     "text": [
      "Fail\n"
     ]
    }
   ],
   "source": [
    "marks=int(input(\"Enter your marks:\"))\n",
    "if marks>=80:\n",
    "    print(\"A grade\")\n",
    "elif marks>=60:\n",
    "    print(\"B grade\")\n",
    "elif marks>=50:\n",
    "    print(\"C grade\")\n",
    "else:\n",
    "    print(\"Fail\")"
   ]
  },
  {
   "cell_type": "markdown",
   "id": "127a584e-5137-42f0-9a04-1f015359e472",
   "metadata": {},
   "source": [
    "---\n",
    "## Conclusion\n",
    "In this lab, I learned:\n",
    "- How to declare and use different data types in Python  \n",
    "- How to display outputs in a neat and formatted style  \n",
    "- How to structure a Jupyter Notebook professionally  "
   ]
  }
 ],
 "metadata": {
  "kernelspec": {
   "display_name": "Python [conda env:base] *",
   "language": "python",
   "name": "conda-base-py"
  },
  "language_info": {
   "codemirror_mode": {
    "name": "ipython",
    "version": 3
   },
   "file_extension": ".py",
   "mimetype": "text/x-python",
   "name": "python",
   "nbconvert_exporter": "python",
   "pygments_lexer": "ipython3",
   "version": "3.13.5"
  }
 },
 "nbformat": 4,
 "nbformat_minor": 5
}
