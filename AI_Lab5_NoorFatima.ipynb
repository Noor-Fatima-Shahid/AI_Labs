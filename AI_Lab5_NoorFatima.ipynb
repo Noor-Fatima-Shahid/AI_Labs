{
 "cells": [
  {
   "cell_type": "markdown",
   "id": "956bad9a-2693-4f73-8909-06e8c8d76c3a",
   "metadata": {},
   "source": [
    "# AI Lab -- Week 5"
   ]
  },
  {
   "cell_type": "markdown",
   "id": "f16d62e4-0517-4541-b5e5-c2a614bf4f20",
   "metadata": {},
   "source": [
    "# Task 1 -- Mini Intent Classifier (Keyword Rules)"
   ]
  },
  {
   "cell_type": "code",
   "execution_count": 3,
   "id": "f89b6ea2-2ccb-4fa1-9a8f-85d188b231b2",
   "metadata": {},
   "outputs": [
    {
     "name": "stdout",
     "output_type": "stream",
     "text": [
      "Type messages(type exit to stop): \n"
     ]
    },
    {
     "name": "stdin",
     "output_type": "stream",
     "text": [
      "You:  food\n"
     ]
    },
    {
     "name": "stdout",
     "output_type": "stream",
     "text": [
      "Intent: food\n"
     ]
    },
    {
     "name": "stdin",
     "output_type": "stream",
     "text": [
      "You:  \n"
     ]
    },
    {
     "name": "stdout",
     "output_type": "stream",
     "text": [
      "Intent: unknown\n"
     ]
    },
    {
     "name": "stdin",
     "output_type": "stream",
     "text": [
      "You:  \n"
     ]
    },
    {
     "name": "stdout",
     "output_type": "stream",
     "text": [
      "Intent: unknown\n"
     ]
    },
    {
     "name": "stdin",
     "output_type": "stream",
     "text": [
      "You:  thanks\n"
     ]
    },
    {
     "name": "stdout",
     "output_type": "stream",
     "text": [
      "Intent: thanks\n"
     ]
    },
    {
     "name": "stdin",
     "output_type": "stream",
     "text": [
      "You:  exit\n"
     ]
    },
    {
     "name": "stdout",
     "output_type": "stream",
     "text": [
      "Stopped Task1\n"
     ]
    }
   ],
   "source": [
    "intent_keyword={\n",
    "    \"greeting\" : [\"Hi\",\"hello\",\"salam\",\"assalam\",\"hey\"],\n",
    "    \"goodbye\" : [\"bye\", \"goodbye\", \"see you\", \"take care\"],\n",
    "    \"thanks\" : [\"thanks\", \"thank you\", \"shukriya\"],\n",
    "    \"food\" : [\"eat\", \"restaurant\", \"food\", \"lunch\", \"dinner\"],\n",
    "    \"study\" : [\"study\", \"exam\", \"assignment\", \"quiz\", \"lecture\"]\n",
    "}\n",
    "def classify_intent(text):\n",
    "    t=text.lower().strip()\n",
    "    for intent in[\"greeting\", \"goodbye\", \"thanks\", \"food\", \"study\"]:\n",
    "        for kw in intent_keyword[intent]:\n",
    "            if kw in t:\n",
    "                return intent\n",
    "    return \"unknown\"\n",
    "print(\"Type messages(type exit to stop): \")\n",
    "while True:\n",
    "    msg=input(\"You: \").strip()\n",
    "    if msg.lower() == \"exit\":\n",
    "        print(\"Stopped Task1\")\n",
    "        break\n",
    "    print(\"Intent:\", classify_intent(msg))\n",
    "    "
   ]
  },
  {
   "cell_type": "markdown",
   "id": "2828a17c-a81e-4578-8fbc-c6e57ac6907f",
   "metadata": {},
   "source": [
    "# Task 2 -- Tiny Expert System: Scholarship Eligibility"
   ]
  },
  {
   "cell_type": "code",
   "execution_count": 9,
   "id": "71b1103f-c4c1-4939-892a-d754009567c0",
   "metadata": {},
   "outputs": [
    {
     "name": "stdout",
     "output_type": "stream",
     "text": [
      "\n",
      "Enter candidate info (or type 'exit' to stop)\n"
     ]
    },
    {
     "name": "stdin",
     "output_type": "stream",
     "text": [
      "Continue? (yes/exit):  yes\n",
      "CGPA (0.0–4.0):  4\n",
      "Family income PKR (per month):  45000\n",
      "Achievements (comma-separated):  national award\n"
     ]
    },
    {
     "name": "stdout",
     "output_type": "stream",
     "text": [
      "Decision: Full Scholarship\n",
      "\n",
      "Enter candidate info (or type 'exit' to stop)\n"
     ]
    },
    {
     "name": "stdin",
     "output_type": "stream",
     "text": [
      "Continue? (yes/exit):  exit\n"
     ]
    },
    {
     "name": "stdout",
     "output_type": "stream",
     "text": [
      "Stopped Task 2\n"
     ]
    }
   ],
   "source": [
    "def decide_scholarship(cgpa, family_income, achievements):\n",
    "    ach = [a.strip().lower() for a in achievements]\n",
    "    has_national = any(\"national\" in a for a in ach)\n",
    "    if cgpa >= 3.7 and family_income <= 60000:\n",
    "        return \"Full Scholarship\"\n",
    "    elif cgpa >= 3.0 and family_income <= 120000:\n",
    "        return \"Partial Scholarship\"\n",
    "    elif cgpa >= 3.5 and has_national:\n",
    "        return \"Partial Scholarship\"\n",
    "    else:\n",
    "        return \"Not Eligible\"\n",
    "\n",
    "def read_float(prompt, lo=None, hi=None):\n",
    "    while True:\n",
    "        try:\n",
    "            x = float(input(prompt))\n",
    "            if lo is not None and x < lo:\n",
    "                print(f\"Value must be >= {lo}.\"); continue\n",
    "            if hi is not None and x > hi:\n",
    "                print(f\"Value must be <= {hi}.\"); continue\n",
    "            return x\n",
    "        except ValueError:\n",
    "            print(\"Please enter a number.\")\n",
    "\n",
    "def read_int(prompt, lo=None, hi=None):\n",
    "    while True:\n",
    "        try:\n",
    "            x = int(input(prompt))\n",
    "            if lo is not None and x < lo:\n",
    "                print(f\"Value must be >= {lo}.\"); continue\n",
    "            if hi is not None and x > hi:\n",
    "                print(f\"Value must be <= {hi}.\"); continue\n",
    "            return x\n",
    "        except ValueError:\n",
    "            print(\"Please enter an integer.\")\n",
    "\n",
    "while True:\n",
    "    print(\"\\nEnter candidate info (or type 'exit' to stop)\")\n",
    "    raw = input(\"Continue? (yes/exit): \").strip().lower()\n",
    "    if raw == \"exit\":\n",
    "        print(\"Stopped Task 2\")\n",
    "        break\n",
    "    cgpa = read_float(\"CGPA (0.0–4.0): \", 0.0, 4.0)\n",
    "    income = read_int(\"Family income PKR (per month): \", 0)\n",
    "    ach_str = input(\"Achievements (comma-separated): \").strip()\n",
    "    achievements = [s for s in ach_str.split(\",\")] if ach_str else []\n",
    "    decision = decide_scholarship(cgpa, income, achievements)\n",
    "    print(f\"Decision: {decision}\")\n"
   ]
  },
  {
   "cell_type": "markdown",
   "id": "728b4241-0155-498d-bddc-ab17ad00b333",
   "metadata": {},
   "source": [
    "# Task 3 -- Rule‑Based Recommender (Weighted Scoring)"
   ]
  },
  {
   "cell_type": "code",
   "execution_count": 8,
   "id": "4d83b476-2d27-43fa-ae70-6d33b4092bc8",
   "metadata": {},
   "outputs": [
    {
     "name": "stdout",
     "output_type": "stream",
     "text": [
      "\n",
      "Recommend an activity (type 'exit' to stop)\n"
     ]
    },
    {
     "name": "stdin",
     "output_type": "stream",
     "text": [
      "Continue? (yes/exit):  yes\n",
      "Your feeling? ['tired', 'stressed', 'bored', 'energetic']:  bored\n",
      "Time of day? ['morning', 'afternoon', 'evening', 'night']:  night\n"
     ]
    },
    {
     "name": "stdout",
     "output_type": "stream",
     "text": [
      "\n",
      "Recommended activity: read\n",
      "Scores: {'read': 3, 'walk': 1, 'nap': 2, 'music': 0}\n",
      "\n",
      "Recommend an activity (type 'exit' to stop)\n"
     ]
    },
    {
     "name": "stdin",
     "output_type": "stream",
     "text": [
      "Continue? (yes/exit):  exit\n"
     ]
    },
    {
     "name": "stdout",
     "output_type": "stream",
     "text": [
      "Stopped Task 3.\n"
     ]
    }
   ],
   "source": [
    "def activity_recommender(feeling, time_of_day):\n",
    "    feeling = feeling.lower().strip()\n",
    "    time_of_day = time_of_day.lower().strip()\n",
    "\n",
    "    scores = {\"read\": 0, \"walk\": 0, \"nap\": 0, \"music\": 0}\n",
    "\n",
    "    if feeling == \"tired\":\n",
    "        scores[\"nap\"] += 3\n",
    "        scores[\"music\"] += 1\n",
    "    elif feeling == \"stressed\":\n",
    "        scores[\"walk\"] += 2\n",
    "        scores[\"music\"] += 2\n",
    "    elif feeling == \"bored\":\n",
    "        scores[\"read\"] += 2\n",
    "        scores[\"walk\"] += 1\n",
    "    elif feeling == \"energetic\":\n",
    "        scores[\"walk\"] += 3\n",
    "        scores[\"read\"] += 1\n",
    "\n",
    "    if time_of_day in (\"morning\", \"afternoon\"):\n",
    "        scores[\"walk\"] += 1\n",
    "        scores[\"read\"] += 1\n",
    "    elif time_of_day in (\"evening\",):\n",
    "        scores[\"music\"] += 2\n",
    "        scores[\"walk\"] += 1\n",
    "    elif time_of_day in (\"night\",):\n",
    "        scores[\"nap\"] += 2\n",
    "        scores[\"read\"] += 1\n",
    "\n",
    "    best = max(scores, key=scores.get)\n",
    "    return best, scores\n",
    "\n",
    "\n",
    "def read_choice(prompt, choices):\n",
    "    low = [c.lower() for c in choices]\n",
    "    while True:\n",
    "        s = input(f\"{prompt} {choices}: \").strip().lower()\n",
    "        if s in low:\n",
    "            return s\n",
    "        print(f\"Please choose one of {choices}.\")\n",
    "\n",
    "\n",
    "while True:\n",
    "    print(\"\\nRecommend an activity (type 'exit' to stop)\")\n",
    "    nxt = input(\"Continue? (yes/exit): \").strip().lower()\n",
    "    if nxt == \"exit\":\n",
    "        print(\"Stopped Task 3.\")\n",
    "        break\n",
    "\n",
    "    feeling = read_choice(\"Your feeling?\", [\"tired\", \"stressed\", \"bored\", \"energetic\"])\n",
    "    time_of_day = read_choice(\"Time of day?\", [\"morning\", \"afternoon\", \"evening\", \"night\"])\n",
    "\n",
    "    best, scores = activity_recommender(feeling, time_of_day)\n",
    "    print(f\"\\nRecommended activity: {best}\")\n",
    "    print(\"Scores:\", scores)\n"
   ]
  },
  {
   "cell_type": "markdown",
   "id": "20b31547-a883-40db-bcb3-1ad1b3c31ca4",
   "metadata": {},
   "source": [
    "# Task 4 --  Mini Finite‑State Machine (FSM): Traffic Light"
   ]
  },
  {
   "cell_type": "code",
   "execution_count": 10,
   "id": "2b60c817-e5f8-4b66-a2e5-6035cf9edae9",
   "metadata": {},
   "outputs": [
    {
     "name": "stdout",
     "output_type": "stream",
     "text": [
      "\n",
      "Traffic light simulation (type 'exit' to stop)\n"
     ]
    },
    {
     "name": "stdin",
     "output_type": "stream",
     "text": [
      "Continue? (yes/exit):  yes\n",
      "Number of cycles (e.g., 2):  2\n",
      "Use real delays? (y/n):  y\n"
     ]
    },
    {
     "name": "stdout",
     "output_type": "stream",
     "text": [
      "State: RED (wait 1s)\n",
      "State: GREEN (wait 1s)\n",
      "State: YELLOW (wait 1s)\n",
      "State: RED (wait 1s)\n",
      "State: GREEN (wait 1s)\n",
      "State: YELLOW (wait 1s)\n",
      "Visited states: ['RED', 'GREEN', 'YELLOW', 'RED', 'GREEN', 'YELLOW']\n",
      "\n",
      "Traffic light simulation (type 'exit' to stop)\n"
     ]
    },
    {
     "name": "stdin",
     "output_type": "stream",
     "text": [
      "Continue? (yes/exit):  exit\n"
     ]
    },
    {
     "name": "stdout",
     "output_type": "stream",
     "text": [
      "Stopped Task 4.\n"
     ]
    }
   ],
   "source": [
    "import time\n",
    "fsm = {\n",
    "    \"RED\": {\"next\": \"GREEN\", \"duration\": 1},\n",
    "    \"GREEN\": {\"next\": \"YELLOW\", \"duration\": 1},\n",
    "    \"YELLOW\": {\"next\": \"RED\", \"duration\": 1},\n",
    "}\n",
    "def run_traffic_light(cycles=2, real_delay=False):\n",
    "    state = \"RED\"\n",
    "    history = []\n",
    "    for _ in range(cycles * len(fsm)):\n",
    "        info = fsm[state]\n",
    "        print(f\"State: {state} (wait {info['duration']}s)\")\n",
    "        history.append(state)\n",
    "        time.sleep(info[\"duration\"] if real_delay else 0)\n",
    "        state = info[\"next\"]\n",
    "    return history\n",
    "while True:\n",
    "    print(\"\\nTraffic light simulation (type 'exit' to stop)\")\n",
    "    cont = input(\"Continue? (yes/exit): \").strip().lower()\n",
    "    if cont == \"exit\":\n",
    "        print(\"Stopped Task 4.\")\n",
    "        break\n",
    "    while True:\n",
    "        try:\n",
    "            cycles = int(input(\"Number of cycles (e.g., 2): \"))\n",
    "            if cycles <= 0:\n",
    "                print(\"Enter a positive integer.\"); continue\n",
    "            break\n",
    "        except ValueError:\n",
    "            print(\"Please enter an integer.\")\n",
    "    delay_ans = input(\"Use real delays? (y/n): \").strip().lower()\n",
    "    history = run_traffic_light(cycles, real_delay=(delay_ans == 'y'))\n",
    "    print(\"Visited states:\", history)\n"
   ]
  },
  {
   "cell_type": "markdown",
   "id": "e9ac6de4-84c9-4019-bcc3-958e8720b131",
   "metadata": {},
   "source": [
    "# Task 5 -- Robust Input Helpers (Re‑usable Functions)"
   ]
  },
  {
   "cell_type": "code",
   "execution_count": 11,
   "id": "39f0e9a2-82a9-46bf-ab86-472572966fdb",
   "metadata": {},
   "outputs": [
    {
     "name": "stdout",
     "output_type": "stream",
     "text": [
      "Fill the form below:\n"
     ]
    },
    {
     "name": "stdin",
     "output_type": "stream",
     "text": [
      "Your name:  noor\n",
      "Preferred activity? ['read', 'walk', 'nap', 'music']:  nap\n",
      "Your CGPA (0.0–4.0):  4\n"
     ]
    },
    {
     "name": "stdout",
     "output_type": "stream",
     "text": [
      "Summary -> Name: noor, Activity: nap, CGPA: 4.0\n"
     ]
    }
   ],
   "source": [
    "def read_nonempty(prompt):\n",
    "    while True:\n",
    "        s = input(prompt).strip()\n",
    "        if s:\n",
    "            return s\n",
    "        print(\"Input cannot be empty, try again.\")\n",
    "\n",
    "def read_choice(prompt, choices):\n",
    "    choices_lower = [c.lower() for c in choices]\n",
    "    while True:\n",
    "        s = input(f\"{prompt} {choices}: \").strip().lower()\n",
    "        if s in choices_lower:\n",
    "            return s\n",
    "        print(f\"Please enter one of {choices}.\")\n",
    "\n",
    "def read_float_range(prompt, lo, hi):\n",
    "    while True:\n",
    "        try:\n",
    "            x = float(input(prompt))\n",
    "            if lo <= x <= hi:\n",
    "                return x\n",
    "            else:\n",
    "                print(f\"Value must be between {lo} and {hi}.\")\n",
    "        except ValueError:\n",
    "            print(\"Please enter a number.\")\n",
    "\n",
    "print(\"Fill the form below:\")\n",
    "name = read_nonempty(\"Your name: \")\n",
    "activity = read_choice(\"Preferred activity?\", [\"read\",\"walk\",\"nap\",\"music\"])\n",
    "cgpa = read_float_range(\"Your CGPA (0.0–4.0): \", 0.0, 4.0)\n",
    "print(f\"Summary -> Name: {name}, Activity: {activity}, CGPA: {cgpa}\")\n"
   ]
  },
  {
   "cell_type": "markdown",
   "id": "b59ca7a4-bfdc-4094-9b03-9132078df800",
   "metadata": {},
   "source": [
    "#  Wrap‑Up Challenge — AI Help Desk (Everything Together)"
   ]
  },
  {
   "cell_type": "code",
   "execution_count": 18,
   "id": "76701673-45f3-4ece-bdae-64e32d61e356",
   "metadata": {},
   "outputs": [
    {
     "name": "stdout",
     "output_type": "stream",
     "text": [
      "Chat with AI Help Desk (type 'exit' to finish).\n"
     ]
    },
    {
     "name": "stdin",
     "output_type": "stream",
     "text": [
      "You:  hi\n"
     ]
    },
    {
     "name": "stdout",
     "output_type": "stream",
     "text": [
      "Bot: Hello! How can I help you today?\n"
     ]
    },
    {
     "name": "stdin",
     "output_type": "stream",
     "text": [
      "You:  salam\n"
     ]
    },
    {
     "name": "stdout",
     "output_type": "stream",
     "text": [
      "Bot: Hello! How can I help you today?\n"
     ]
    },
    {
     "name": "stdin",
     "output_type": "stream",
     "text": [
      "You:  study\n"
     ]
    },
    {
     "name": "stdout",
     "output_type": "stream",
     "text": [
      "Bot: Study tip: set a 25-minute focus timer. Also try a quick walk.\n"
     ]
    },
    {
     "name": "stdin",
     "output_type": "stream",
     "text": [
      "You:  resturant\n"
     ]
    },
    {
     "name": "stdout",
     "output_type": "stream",
     "text": [
      "Bot: I'm not sure yet, but I can help with study tips, greetings, food, and more.\n"
     ]
    },
    {
     "name": "stdin",
     "output_type": "stream",
     "text": [
      "You:  food\n"
     ]
    },
    {
     "name": "stdout",
     "output_type": "stream",
     "text": [
      "Bot: Try a light, healthy meal so your energy stays stable while studying.\n"
     ]
    },
    {
     "name": "stdin",
     "output_type": "stream",
     "text": [
      "You:  thanks\n"
     ]
    },
    {
     "name": "stdout",
     "output_type": "stream",
     "text": [
      "Bot: You're welcome! Happy to help.\n"
     ]
    },
    {
     "name": "stdin",
     "output_type": "stream",
     "text": [
      "You:  goodbye\n"
     ]
    },
    {
     "name": "stdout",
     "output_type": "stream",
     "text": [
      "Bot: Goodbye! See you soon.\n"
     ]
    },
    {
     "name": "stdin",
     "output_type": "stream",
     "text": [
      "You:  exit\n"
     ]
    },
    {
     "name": "stdout",
     "output_type": "stream",
     "text": [
      "Session ended. Summary below.\n",
      "\n",
      "Conversation Summary:\n",
      "1. Intent=greeting | User='hi' | Reply='Hello! How can I help you today?'\n",
      "2. Intent=greeting | User='salam' | Reply='Hello! How can I help you today?'\n",
      "3. Intent=study    | User='study' | Reply='Study tip: set a 25-minute focus timer. Also try a quick walk.'\n",
      "4. Intent=unknown  | User='resturant' | Reply='I'm not sure yet, but I can help with study tips, greetings, food, and more.'\n",
      "5. Intent=food     | User='food' | Reply='Try a light, healthy meal so your energy stays stable while studying.'\n",
      "6. Intent=thanks   | User='thanks' | Reply='You're welcome! Happy to help.'\n",
      "7. Intent=goodbye  | User='goodbye' | Reply='Goodbye! See you soon.'\n"
     ]
    }
   ],
   "source": [
    "\n",
    "\n",
    "history = []\n",
    "\n",
    "def bot_reply(user_msg):\n",
    "    intent = classify_intent(user_msg)\n",
    "    if intent == \"greeting\":\n",
    "        reply = \"Hello! How can I help you today?\"\n",
    "    elif intent == \"thanks\":\n",
    "        reply = \"You're welcome! Happy to help.\"\n",
    "    elif intent == \"goodbye\":\n",
    "        reply = \"Goodbye! See you soon.\"\n",
    "    elif intent == \"study\":\n",
    "        rec, _ = activity_recommender(\"stressed\", \"evening\")\n",
    "        reply = f\"Study tip: set a 25-minute focus timer. Also try a quick {rec}.\"\n",
    "    elif intent == \"food\":\n",
    "        reply = \"Try a light, healthy meal so your energy stays stable while studying.\"\n",
    "    else:\n",
    "        reply = \"I'm not sure yet, but I can help with study tips, greetings, food, and more.\"\n",
    "    return intent, reply\n",
    "\n",
    "print(\"Chat with AI Help Desk (type 'exit' to finish).\")\n",
    "\n",
    "while True:\n",
    "    u = input(\"You: \").strip()\n",
    "    if u.lower() == \"exit\":\n",
    "        print(\"Session ended. Summary below.\")\n",
    "        break\n",
    "    it, resp = bot_reply(u)\n",
    "    history.append((u, it, resp))\n",
    "    print(\"Bot:\", resp)\n",
    "\n",
    "print(\"\\nConversation Summary:\")\n",
    "for i, (u, it, r) in enumerate(history, 1):\n",
    "    print(f\"{i}. Intent={it:8s} | User='{u}' | Reply='{r}'\")\n"
   ]
  },
  {
   "cell_type": "code",
   "execution_count": 23,
   "id": "ee95ae39-7bfd-4215-bb6e-34eb8c597ab7",
   "metadata": {},
   "outputs": [
    {
     "name": "stdin",
     "output_type": "stream",
     "text": [
      "Enter a string: hi\n"
     ]
    },
    {
     "name": "stdout",
     "output_type": "stream",
     "text": [
      "2\n"
     ]
    }
   ],
   "source": [
    "sentence=input(\"Enter a string:\")\n",
    "def len_string(sentence):\n",
    "    c=0\n",
    "    for char in sentence:\n",
    "        c=c+1\n",
    "    print(c)\n",
    "len_string(sentence)"
   ]
  }
 ],
 "metadata": {
  "kernelspec": {
   "display_name": "Python [conda env:base] *",
   "language": "python",
   "name": "conda-base-py"
  },
  "language_info": {
   "codemirror_mode": {
    "name": "ipython",
    "version": 3
   },
   "file_extension": ".py",
   "mimetype": "text/x-python",
   "name": "python",
   "nbconvert_exporter": "python",
   "pygments_lexer": "ipython3",
   "version": "3.13.5"
  }
 },
 "nbformat": 4,
 "nbformat_minor": 5
}
